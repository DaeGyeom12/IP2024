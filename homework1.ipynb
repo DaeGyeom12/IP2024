{
 "cells": [
  {
   "cell_type": "code",
   "execution_count": 1,
   "metadata": {},
   "outputs": [],
   "source": [
    "import cv2\n",
    "import numpy as np"
   ]
  },
  {
   "cell_type": "code",
   "execution_count": 2,
   "metadata": {},
   "outputs": [],
   "source": [
    "import cv2\n",
    "import numpy as np\n",
    "\n",
    "drawing = False  \n",
    "mode = True      \n",
    "ix, iy = -1, -1\n",
    "\n",
    "\n",
    "img = cv2.imread('ml.png')\n",
    "if img is None:\n",
    "    print(\"이미지를 찾을 수 없습니다. 'ml.png' 파일이 존재하는지 확인하세요.\")\n",
    "    exit()\n",
    "\n",
    "\n",
    "def draw_shape(event, x, y, flags, param):\n",
    "    global ix, iy, drawing, mode, img\n",
    "    \n",
    "    img_copy = img.copy()  \n",
    "\n",
    "    if event == cv2.EVENT_LBUTTONDOWN:\n",
    "        drawing = True\n",
    "        ix, iy = x, y\n",
    "    elif event == cv2.EVENT_MOUSEMOVE:\n",
    "        if drawing:\n",
    "            if mode:\n",
    "                cv2.rectangle(img_copy, (ix, iy), (x, y), (0, 255, 0), -1)\n",
    "            else:\n",
    "                cv2.circle(img_copy, (x, y), 5, (0, 0, 255), -1)\n",
    "\n",
    "    \n",
    "    cv2.putText(img_copy, f'Mouse position: ({x},{y})', (10, 500), \n",
    "                cv2.FONT_HERSHEY_SIMPLEX, 0.7, (0, 0, 0), 2, cv2.LINE_AA)\n",
    "\n",
    "    \n",
    "    cv2.imshow('image', img_copy)\n",
    "\n",
    "    if event == cv2.EVENT_LBUTTONUP:\n",
    "        drawing = False\n",
    "        if mode:\n",
    "            cv2.rectangle(img, (ix, iy), (x, y), (0, 255, 0), -1)\n",
    "        else:\n",
    "            cv2.circle(img, (x, y), 5, (0, 0, 255), -1)\n",
    "\n",
    "\n",
    "cv2.namedWindow('image')\n",
    "cv2.setMouseCallback('image', draw_shape)\n",
    "\n",
    "while True:\n",
    "    cv2.imshow('image', img)\n",
    "    key = cv2.waitKey(1) & 0xFF\n",
    "    if key == ord('m'):  \n",
    "        mode = not mode\n",
    "    elif key == 27:  \n",
    "        break\n",
    "\n",
    "cv2.destroyAllWindows()\n"
   ]
  }
 ],
 "metadata": {
  "kernelspec": {
   "display_name": "IP2024",
   "language": "python",
   "name": "python3"
  },
  "language_info": {
   "codemirror_mode": {
    "name": "ipython",
    "version": 3
   },
   "file_extension": ".py",
   "mimetype": "text/x-python",
   "name": "python",
   "nbconvert_exporter": "python",
   "pygments_lexer": "ipython3",
   "version": "3.8.19"
  }
 },
 "nbformat": 4,
 "nbformat_minor": 2
}
