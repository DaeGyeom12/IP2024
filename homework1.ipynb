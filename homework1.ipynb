{
 "cells": [
  {
   "cell_type": "code",
   "execution_count": 1,
   "metadata": {},
   "outputs": [],
   "source": [
    "import cv2\n",
    "import numpy as np"
   ]
  },
  {
   "cell_type": "code",
   "execution_count": 2,
   "metadata": {},
   "outputs": [
    {
     "ename": "error",
     "evalue": "OpenCV(4.10.0) D:\\a\\opencv-python\\opencv-python\\opencv\\modules\\highgui\\src\\window_w32.cpp:2561: error: (-27:Null pointer) NULL window: 'image' in function 'cvGetTrackbarPos'\n",
     "output_type": "error",
     "traceback": [
      "\u001b[1;31m---------------------------------------------------------------------------\u001b[0m",
      "\u001b[1;31merror\u001b[0m                                     Traceback (most recent call last)",
      "Cell \u001b[1;32mIn[2], line 57\u001b[0m\n\u001b[0;32m     54\u001b[0m         cv2\u001b[38;5;241m.\u001b[39mcircle(img_display, (shape[\u001b[38;5;241m1\u001b[39m][\u001b[38;5;241m0\u001b[39m], shape[\u001b[38;5;241m1\u001b[39m][\u001b[38;5;241m1\u001b[39m]), \u001b[38;5;241m5\u001b[39m, (\u001b[38;5;241m0\u001b[39m, \u001b[38;5;241m0\u001b[39m, \u001b[38;5;241m255\u001b[39m), \u001b[38;5;241m-\u001b[39m\u001b[38;5;241m1\u001b[39m)\n\u001b[0;32m     56\u001b[0m \u001b[38;5;66;03m# 현재 슬라이더의 값을 가져오기\u001b[39;00m\n\u001b[1;32m---> 57\u001b[0m alpha \u001b[38;5;241m=\u001b[39m \u001b[43mcv2\u001b[49m\u001b[38;5;241;43m.\u001b[39;49m\u001b[43mgetTrackbarPos\u001b[49m\u001b[43m(\u001b[49m\u001b[38;5;124;43m'\u001b[39;49m\u001b[38;5;124;43mTransparency\u001b[39;49m\u001b[38;5;124;43m'\u001b[39;49m\u001b[43m,\u001b[49m\u001b[43m \u001b[49m\u001b[38;5;124;43m'\u001b[39;49m\u001b[38;5;124;43mimage\u001b[39;49m\u001b[38;5;124;43m'\u001b[39;49m\u001b[43m)\u001b[49m \u001b[38;5;241m/\u001b[39m \u001b[38;5;241m100.0\u001b[39m\n\u001b[0;32m     59\u001b[0m \u001b[38;5;66;03m# 투명도를 적용하여 이미지를 합성\u001b[39;00m\n\u001b[0;32m     60\u001b[0m img_display \u001b[38;5;241m=\u001b[39m cv2\u001b[38;5;241m.\u001b[39maddWeighted(img, \u001b[38;5;241m1\u001b[39m \u001b[38;5;241m-\u001b[39m alpha, img_display, alpha, \u001b[38;5;241m0\u001b[39m)\n",
      "\u001b[1;31merror\u001b[0m: OpenCV(4.10.0) D:\\a\\opencv-python\\opencv-python\\opencv\\modules\\highgui\\src\\window_w32.cpp:2561: error: (-27:Null pointer) NULL window: 'image' in function 'cvGetTrackbarPos'\n"
     ]
    }
   ],
   "source": [
    "drawing = False  # 마우스가 눌려 있을 때 True\n",
    "mode = True      # True일 때 사각형을 그림\n",
    "ix, iy = -1, -1  # 사각형의 시작 좌표\n",
    "alpha = 0.5      # 투명도 초기값\n",
    "\n",
    "# 이미지 읽기\n",
    "img = cv2.imread('ml.png')\n",
    "if img is None:\n",
    "    print(\"이미지를 찾을 수 없습니다. 'ml.png' 파일이 존재하는지 확인하세요.\")\n",
    "    exit()\n",
    "\n",
    "# 슬라이더 콜백 함수\n",
    "def nothing(x):\n",
    "    pass\n",
    "\n",
    "# 투명도 조절 슬라이더 생성\n",
    "cv2.namedWindow('image')\n",
    "cv2.createTrackbar('Transparency', 'image', int(alpha * 100), 100, nothing)\n",
    "\n",
    "# 도형을 저장할 리스트\n",
    "shapes = []\n",
    "\n",
    "# 마우스 이벤트 처리 함수\n",
    "def draw_shape(event, x, y, flags, param):\n",
    "    global ix, iy, drawing, mode\n",
    "\n",
    "    if event == cv2.EVENT_LBUTTONDOWN:  # 마우스 왼쪽 버튼이 눌렸을 때\n",
    "        drawing = True\n",
    "        ix, iy = x, y  # 시작 좌표 저장\n",
    "\n",
    "    elif event == cv2.EVENT_MOUSEMOVE:  # 마우스가 이동할 때\n",
    "        if drawing:  # 마우스가 눌린 상태라면\n",
    "            pass  # 현재 도형은 그리지 않음 (마우스 이동 시 도형이 깜박이지 않게 하기 위해)\n",
    "\n",
    "    if event == cv2.EVENT_LBUTTONUP:  # 마우스 왼쪽 버튼이 떼어졌을 때\n",
    "        drawing = False\n",
    "        if mode:\n",
    "            shapes.append(('rectangle', (ix, iy, x, y)))  # 사각형 정보 저장\n",
    "        else:\n",
    "            shapes.append(('circle', (x, y)))  # 원 정보 저장\n",
    "\n",
    "# 슬라이더 및 콜백 설정\n",
    "cv2.setMouseCallback('image', draw_shape)\n",
    "\n",
    "while True:\n",
    "    # 최종 이미지를 표시\n",
    "    img_display = img.copy()\n",
    "\n",
    "    # 도형을 그리기\n",
    "    for shape in shapes:\n",
    "        if shape[0] == 'rectangle':\n",
    "            cv2.rectangle(img_display, (shape[1][0], shape[1][1]), (shape[1][2], shape[1][3]), (0, 255, 0), -1)\n",
    "        elif shape[0] == 'circle':\n",
    "            cv2.circle(img_display, (shape[1][0], shape[1][1]), 5, (0, 0, 255), -1)\n",
    "\n",
    "    # 현재 슬라이더의 값을 가져오기\n",
    "    alpha = cv2.getTrackbarPos('Transparency', 'image') / 100.0\n",
    "\n",
    "    # 투명도를 적용하여 이미지를 합성\n",
    "    img_display = cv2.addWeighted(img, 1 - alpha, img_display, alpha, 0)\n",
    "\n",
    "    # 마지막 도형 좌표 표시\n",
    "    if shapes:  # 도형이 하나라도 있을 경우\n",
    "        last_shape = shapes[-1]\n",
    "        if last_shape[0] == 'rectangle':\n",
    "            cv2.putText(img_display, f'Last rectangle: ({last_shape[1][0]},{last_shape[1][1]}) to ({last_shape[1][2]},{last_shape[1][3]})', (10, 30),\n",
    "                        cv2.FONT_HERSHEY_SIMPLEX, 0.7, (0, 0, 0), 2, cv2.LINE_AA)\n",
    "        elif last_shape[0] == 'circle':\n",
    "            cv2.putText(img_display, f'Last circle center: ({last_shape[1][0]},{last_shape[1][1]})', (10, 30),\n",
    "                        cv2.FONT_HERSHEY_SIMPLEX, 0.7, (0, 0, 0), 2, cv2.LINE_AA)\n",
    "\n",
    "    # 현재 마우스 좌표 표시\n",
    "    cv2.putText(img_display, f'Mouse position: ({ix},{iy})', (10, 60), \n",
    "                cv2.FONT_HERSHEY_SIMPLEX, 0.7, (0, 0, 0), 2, cv2.LINE_AA)\n",
    "\n",
    "    cv2.imshow('image', img_display)\n",
    "\n",
    "    key = cv2.waitKey(1) & 0xFF\n",
    "    if key == ord('m'):  # 'm' 키를 눌러 모드 전환\n",
    "        mode = not mode\n",
    "    elif key == 27:  # 'Esc' 키를 눌러 종료\n",
    "        break\n",
    "\n",
    "cv2.destroyAllWindows()  # 모든 창 닫기\n"
   ]
  }
 ],
 "metadata": {
  "kernelspec": {
   "display_name": "IP2024",
   "language": "python",
   "name": "python3"
  },
  "language_info": {
   "codemirror_mode": {
    "name": "ipython",
    "version": 3
   },
   "file_extension": ".py",
   "mimetype": "text/x-python",
   "name": "python",
   "nbconvert_exporter": "python",
   "pygments_lexer": "ipython3",
   "version": "3.8.19"
  }
 },
 "nbformat": 4,
 "nbformat_minor": 2
}
